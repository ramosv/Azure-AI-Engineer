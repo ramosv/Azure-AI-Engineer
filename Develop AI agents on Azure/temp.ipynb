{
 "cells": [
  {
   "cell_type": "markdown",
   "id": "b9de066e",
   "metadata": {},
   "source": [
    "a"
   ]
  }
 ],
 "metadata": {
  "language_info": {
   "name": "python"
  }
 },
 "nbformat": 4,
 "nbformat_minor": 5
}
