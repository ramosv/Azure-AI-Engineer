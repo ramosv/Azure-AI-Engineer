{
 "cells": [
  {
   "cell_type": "markdown",
   "id": "d4e04274",
   "metadata": {},
   "source": [
    "a"
   ]
  }
 ],
 "metadata": {
  "language_info": {
   "name": "python"
  }
 },
 "nbformat": 4,
 "nbformat_minor": 5
}
