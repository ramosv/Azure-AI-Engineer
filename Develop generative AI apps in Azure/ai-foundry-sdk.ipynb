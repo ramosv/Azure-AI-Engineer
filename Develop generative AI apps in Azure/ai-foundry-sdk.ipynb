{
 "cells": [
  {
   "cell_type": "markdown",
   "id": "ca1d7cf5",
   "metadata": {},
   "source": [
    "# Exercise - Create a generative AI chat app\n",
    "\n",
    "This notebook is to be used along side the instructions provided https://learn.microsoft.com/en-us/training/modules/ai-foundry-sdk/"
   ]
  },
  {
   "cell_type": "markdown",
   "id": "6a4c8263",
   "metadata": {},
   "source": [
    "## Requirements\n",
    "\n",
    "- azure-ai-projects\n",
    "- azure-identity\n",
    "- openai\n",
    "- Azure CLI: https://aka.ms/installazurecliwindows\n",
    "\n",
    "Additonal information: https://learn.microsoft.com/en-us/azure/ai-foundry/how-to/develop/sdk-overview?pivots=programming-language-python\n"
   ]
  },
  {
   "cell_type": "markdown",
   "id": "48e548b7",
   "metadata": {},
   "source": [
    "\n",
    "1. Verify Azure CLI is on your PATH\n",
    "\n",
    "   ```bash\n",
    "   which az\n",
    "   az version\n",
    "   ```\n",
    "\n",
    "   ![git bash](../Assets/img5.png)\n",
    "\n",
    "2. Log in to Azure by using the command:\n",
    "\n",
    "   ```bash\n",
    "   az login\n",
    "   ```\n",
    "\n",
    "   ![login prompt](../Assets/img4.png)\n",
    "\n",
    "3. Create a connected resource in the Foundry portal.\n",
    "\n",
    "   From your project go to management center -> Connected Resources -> New connection\n",
    "   \n",
    "   ![foundry](../Assets/img2.png)\n",
    "\n",
    "4. Connect your project resource.\n",
    "\n",
    "   Go to project overview and copy the url under libraries. IN this example i use the Azure AI foundary\n",
    "   ![connect](../Assets/img1.png)\n",
    "\n",
    "5. If Git Bash can't find `az`, add it to your PATH via git bash or using windows enviroment varibles interface\n",
    "\n",
    "   ```bash\n",
    "   export PATH=\"/c/Program Files (x86)/Microsoft SDKs/Azure/CLI2/wbin:$PATH\"\n",
    "   ```\n",
    "\n",
    "   ![Env](../Assets/img3.png)\n"
   ]
  },
  {
   "cell_type": "code",
   "execution_count": 1,
   "id": "695be0cd",
   "metadata": {},
   "outputs": [
    {
     "name": "stdout",
     "output_type": "stream",
     "text": [
      "Got token, expires on: 1752270559\n"
     ]
    }
   ],
   "source": [
    "# verify we connected\n",
    "from azure.identity import DefaultAzureCredential\n",
    "\n",
    "# a token for azure resource manager\n",
    "cred = DefaultAzureCredential()\n",
    "token = cred.get_token(\"https://management.azure.com/.default\")\n",
    "print(\"Got token, expires on:\", token.expires_on)"
   ]
  },
  {
   "cell_type": "code",
   "execution_count": 2,
   "id": "26fd04b0",
   "metadata": {},
   "outputs": [
    {
     "name": "stdout",
     "output_type": "stream",
     "text": [
      "All connections:\n",
      "vicenteramos2861resource (AIServices)\n"
     ]
    }
   ],
   "source": [
    "from azure.ai.projects import AIProjectClient\n",
    "\n",
    "project_client = AIProjectClient(            \n",
    "        credential=cred,\n",
    "        endpoint=\"https://vicente-ramos-2861-resource.services.ai.azure.com/api/projects/vicente-ramos-2861\"\n",
    "    )\n",
    "\n",
    "\n",
    "connections = project_client.connections\n",
    "print(\"All connections:\")\n",
    "for connection in connections.list():\n",
    "    print(f\"{connection.name} ({connection.type})\")\n"
   ]
  },
  {
   "cell_type": "code",
   "execution_count": null,
   "id": "829048ad",
   "metadata": {},
   "outputs": [
    {
     "name": "stdout",
     "output_type": "stream",
     "text": [
      "The capital of Chile is Santiago de Chile.\n"
     ]
    }
   ],
   "source": [
    "# lets generate a chat completion using the Azure OpenAI client\n",
    "\n",
    "# get the Azure OpenAI client from the project\n",
    "chat_client = project_client.inference.get_azure_openai_client(api_version=\"2024-10-21\")\n",
    "\n",
    "# get a chat completion based on a user-provided prompt\n",
    "user_prompt = input(\"Enter a question:\")\n",
    "\n",
    "response = chat_client.chat.completions.create(\n",
    "    model=\"phi-4-mini-instruct\",\n",
    "    messages=[\n",
    "        {\"role\": \"system\", \"content\": \"You are a helpful AI assistant.\"},\n",
    "        {\"role\": \"user\", \"content\": user_prompt}\n",
    "    ]\n",
    ")\n",
    "\n",
    "#my prompt was: capital of chile\n",
    "print(response.choices[0].message.content)"
   ]
  }
 ],
 "metadata": {
  "kernelspec": {
   "display_name": ".venv",
   "language": "python",
   "name": "python3"
  },
  "language_info": {
   "codemirror_mode": {
    "name": "ipython",
    "version": 3
   },
   "file_extension": ".py",
   "mimetype": "text/x-python",
   "name": "python",
   "nbconvert_exporter": "python",
   "pygments_lexer": "ipython3",
   "version": "3.10.5"
  }
 },
 "nbformat": 4,
 "nbformat_minor": 5
}
